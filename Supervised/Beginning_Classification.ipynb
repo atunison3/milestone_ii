{
 "cells": [
  {
   "cell_type": "code",
   "execution_count": 1,
   "id": "38aa8cab",
   "metadata": {},
   "outputs": [
    {
     "name": "stdout",
     "output_type": "stream",
     "text": [
      "(814183, 4142)\n",
      "(814183,)\n"
     ]
    }
   ],
   "source": [
    "import numpy as np\n",
    "\n",
    "# Load X data\n",
    "X_train = np.load('X_train.npy')\n",
    "y_train = np.load('y_train.npy')\n",
    "\n",
    "print(X_train.shape)\n",
    "print(y_train.shape)"
   ]
  },
  {
   "cell_type": "code",
   "execution_count": 2,
   "id": "96b8bebc",
   "metadata": {},
   "outputs": [],
   "source": [
    "y_train = np.array([0 if i < 1 else 1 for i in y_train])"
   ]
  },
  {
   "cell_type": "code",
   "execution_count": 3,
   "id": "67ff95b7",
   "metadata": {},
   "outputs": [
    {
     "name": "stdout",
     "output_type": "stream",
     "text": [
      "(207165, 4142)\n",
      "(207165,)\n"
     ]
    }
   ],
   "source": [
    "from sklearn.metrics import f1_score, accuracy_score, precision_score, recall_score\n",
    "\n",
    "X_test = np.load('X_test.npy')\n",
    "y_test = np.load('y_test.npy')\n",
    "\n",
    "y_test = np.array([0 if i < 1 else 1 for i in y_test])\n",
    "\n",
    "print(X_test.shape)\n",
    "print(y_test.shape)"
   ]
  },
  {
   "cell_type": "code",
   "execution_count": 4,
   "id": "63c8b205",
   "metadata": {},
   "outputs": [],
   "source": [
    "def score_model(mdl, X_test: np.array, y_test: np.array) -> tuple[float]:\n",
    "    '''Score the model'''\n",
    "    \n",
    "    # Get predictions\n",
    "    preds = mdl.predict(X_test)\n",
    "    \n",
    "    # Get the scores\n",
    "    acc = accuracy_score(y_test, preds)\n",
    "    pre = precision_score(y_test, preds)\n",
    "    rec = recall_score(y_test, preds)\n",
    "    f1 = f1_score(y_test, preds)\n",
    "    \n",
    "    # Print the scores\n",
    "    print(f'Accuracy:  {acc:.2%}')\n",
    "    print(f'Precision: {pre:.2%}')\n",
    "    print(f'Recall:    {rec:.2%}')\n",
    "    print(f'f1:        {f1:.2%}')\n",
    "    \n",
    "    return (acc, pre, rec, f1)\n",
    "\n",
    "class MostFrequenctClassifer:\n",
    "    def __init__(self):\n",
    "        pass\n",
    "    \n",
    "    def fit(self, X_train: np.array, y_train: np.array):\n",
    "        '''Fits a model'''\n",
    "        \n",
    "        first = True\n",
    "        count = (None, None)\n",
    "        for i in np.unique(y_train):\n",
    "            if first:\n",
    "                count = (i, len(y_train[y_train == i]))\n",
    "                first = False\n",
    "            if (y := len(y_train[y_train == i])) > count[1]:\n",
    "                count = (i, y)\n",
    "        \n",
    "        self.most_frequent = i\n",
    "        \n",
    "\n",
    "    def predict(self, X_test: np.array) -> np.array:\n",
    "        '''Predicts the most frequent classifier'''\n",
    "        \n",
    "        return np.array([self.most_frequent] * len(X_test))\n",
    "    \n",
    "class RandomClassifier:\n",
    "    def __init__(self):\n",
    "        pass\n",
    "    \n",
    "    def fit(self, X_train: np.array, y_train: np.array):\n",
    "        '''Fits to the data'''\n",
    "        \n",
    "        self.values = np.unique(y_train)\n",
    "    \n",
    "    def predict(self, X_test: np.array) -> np.array:\n",
    "        '''Predicts randomly'''\n",
    "        \n",
    "        return np.random.choice(self.values, len(X_test))\n"
   ]
  },
  {
   "cell_type": "code",
   "execution_count": 5,
   "id": "9bec1c39",
   "metadata": {},
   "outputs": [
    {
     "name": "stdout",
     "output_type": "stream",
     "text": [
      "Accuracy:  29.04%\n",
      "Precision: 29.04%\n",
      "Recall:    100.00%\n",
      "f1:        45.01%\n"
     ]
    }
   ],
   "source": [
    "# Most frequent\n",
    "clf = MostFrequenctClassifer()\n",
    "clf.fit(X_train, y_train)\n",
    "scores = {}\n",
    "scores['Most Frequency'] = score_model(clf, X_test, y_test)"
   ]
  },
  {
   "cell_type": "markdown",
   "id": "1c8a3242",
   "metadata": {},
   "source": [
    "This is interesting because the training data has wayyyyy more 1's than 0's but the test data has a lot more 0's than 1's. "
   ]
  },
  {
   "cell_type": "code",
   "execution_count": 6,
   "id": "7469f618",
   "metadata": {},
   "outputs": [
    {
     "name": "stdout",
     "output_type": "stream",
     "text": [
      "Accuracy:  50.10%\n",
      "Precision: 29.12%\n",
      "Recall:    50.10%\n",
      "f1:        36.83%\n"
     ]
    }
   ],
   "source": [
    "# Random classifier\n",
    "clf = RandomClassifier()\n",
    "clf.fit(X_train, y_train)\n",
    "scores['Random'] = score_model(clf, X_test, y_test)"
   ]
  },
  {
   "cell_type": "markdown",
   "id": "dc28b3e8",
   "metadata": {},
   "source": [
    "Accuracy of 50%, that is exactly expected"
   ]
  },
  {
   "cell_type": "code",
   "execution_count": 7,
   "id": "b73f8d81",
   "metadata": {},
   "outputs": [
    {
     "name": "stdout",
     "output_type": "stream",
     "text": [
      "Accuracy:  76.94%\n",
      "Precision: 66.50%\n",
      "Recall:    41.51%\n",
      "f1:        51.11%\n"
     ]
    }
   ],
   "source": [
    "from sklearn.linear_model import SGDClassifier\n",
    "\n",
    "clf = SGDClassifier(random_state=42)\n",
    "clf.fit(X_train, y_train)\n",
    "scores['SGDClassifier'] = score_model(clf, X_test, y_test)"
   ]
  },
  {
   "cell_type": "code",
   "execution_count": null,
   "id": "625150f2",
   "metadata": {},
   "outputs": [],
   "source": [
    "from sklearn.svm import SVC\n",
    "\n",
    "clf = SVC()\n",
    "clf.fit(X_train, y_train)\n",
    "scores['SVC'] = score_model(clf, X_test, y_test)"
   ]
  },
  {
   "cell_type": "code",
   "execution_count": null,
   "id": "109af760",
   "metadata": {},
   "outputs": [],
   "source": [
    "from sklearn.neighbors import KNeighborsClassifier\n",
    "\n",
    "clf = KNeighborsClassifier(n_neighbors=3)\n",
    "clf.fit(X_train, y_train)\n",
    "scores['KNN'] = score_model(clf, X_test, y_test)"
   ]
  },
  {
   "cell_type": "code",
   "execution_count": 8,
   "id": "d825f02a",
   "metadata": {},
   "outputs": [
    {
     "name": "stderr",
     "output_type": "stream",
     "text": [
      "/Library/Frameworks/Python.framework/Versions/3.11/lib/python3.11/site-packages/sklearn/metrics/_classification.py:1531: UndefinedMetricWarning: Precision is ill-defined and being set to 0.0 due to no predicted samples. Use `zero_division` parameter to control this behavior.\n",
      "  _warn_prf(average, modifier, f\"{metric.capitalize()} is\", len(result))\n"
     ]
    },
    {
     "name": "stdout",
     "output_type": "stream",
     "text": [
      "Accuracy:  70.96%\n",
      "Precision: 0.00%\n",
      "Recall:    0.00%\n",
      "f1:        0.00%\n"
     ]
    }
   ],
   "source": [
    "from sklearn.decomposition import PCA\n",
    "\n",
    "# Build PCA model\n",
    "pca = PCA(n_components=2).fit(X_train)\n",
    "\n",
    "# Transform X data\n",
    "X_train_reduced = pca.transform(X_train)\n",
    "X_test_reduced = pca.transform(X_test)\n",
    "\n",
    "# Create classifier\n",
    "clf = SGDClassifier(random_state=42)\n",
    "clf.fit(X_train_reduced, y_train)\n",
    "scores['SGDClassifier PCA'] = score_model(clf, X_test_reduced, y_test)"
   ]
  },
  {
   "cell_type": "code",
   "execution_count": null,
   "id": "1aafb32e",
   "metadata": {},
   "outputs": [
    {
     "name": "stderr",
     "output_type": "stream",
     "text": [
      "Python(8101) MallocStackLogging: can't turn off malloc stack logging because it was not enabled.\n"
     ]
    }
   ],
   "source": [
    "from sklearn.neighbors import KNeighborsClassifier\n",
    "\n",
    "clf = KNeighborsClassifier(n_neighbors=5)\n",
    "clf.fit(X_train, y_train)\n",
    "scores['KNN'] = score_model(clf, X_test, y_test)"
   ]
  }
 ],
 "metadata": {
  "kernelspec": {
   "display_name": "Python 3.11",
   "language": "python",
   "name": "python311"
  },
  "language_info": {
   "codemirror_mode": {
    "name": "ipython",
    "version": 3
   },
   "file_extension": ".py",
   "mimetype": "text/x-python",
   "name": "python",
   "nbconvert_exporter": "python",
   "pygments_lexer": "ipython3",
   "version": "3.11.8"
  }
 },
 "nbformat": 4,
 "nbformat_minor": 5
}
